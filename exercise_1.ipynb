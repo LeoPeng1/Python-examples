{
 "cells": [
  {
   "cell_type": "code",
   "execution_count": 2,
   "metadata": {},
   "outputs": [
    {
     "name": "stdout",
     "output_type": "stream",
     "text": [
      "It's terrible how my dog thinks every knock on the door is for him - he must think he's the most popular guy in the neighborhood! It's also terrible how he can sleep all day and yet, the minute I try to take a nap, he decides it's playtime. The terrible thing is, no matter how many times I explain it to him, he still doesn't understand the concept of 'personal space.' It's terrible how he can find the one spot of mud in an entire field and roll in it. And it's even more terrible how he can smell food from a mile away, yet can't find the toy I just threw for him. It's terrible how he can hear a wrapper from three rooms away, but suddenly goes deaf when I call his name. The most terrible thing of all is how, despite all these quirks, he's still the most terrible companion I could ask for. It's simply terrible!\n",
      "\n",
      "The word 'terrible' appears 9 times in the file.\n"
     ]
    }
   ],
   "source": [
    "import re\n",
    "# Open the file in read mode\n",
    "with open('D:/Python/RASA_Github/file_to_read.txt', 'r') as file:\n",
    "    # Read the contents of the file\n",
    "    file_contents = file.read()\n",
    "\n",
    "# Print the contents of the file\n",
    "print(file_contents)\n",
    "# Count the occurrences of the word \"terrible\"\n",
    "word_to_count = \"terrible\"\n",
    "count = file_contents.count(word_to_count)\n",
    "\n",
    "# Display the count\n",
    "print(f\"The word '{word_to_count}' appears {count} times in the file.\")\n"
   ]
  },
  {
   "cell_type": "code",
   "execution_count": 9,
   "metadata": {},
   "outputs": [
    {
     "name": "stdout",
     "output_type": "stream",
     "text": [
      "It's marvellous how my dog thinks every knock on the door is for him - he must think he's the most popular guy in the neighborhood! It's also pathetic how he can sleep all day and yet, the minute I try to take a nap, he decides it's playtime. The marvellous thing is, no matter how many times I explain it to him, he still doesn't understand the concept of 'personal space.' It's pathetic how he can find the one spot of mud in an entire field and roll in it. And it's even more marvellous how he can smell food from a mile away, yet can't find the toy I just threw for him. It's pathetic how he can hear a wrapper from three rooms away, but suddenly goes deaf when I call his name. The most marvellous thing of all is how, despite all these quirks, he's still the most pathetic companion I could ask for. It's simply marvellous!\n",
      "\n"
     ]
    }
   ],
   "source": [
    "import re\n",
    "# Define the replacement words\n",
    "even_word = \"pathetic\"\n",
    "odd_word = \"marvellous\"\n",
    "\n",
    "\n",
    "\n",
    "replace_count = [0]  # Use a list to store the count\n",
    "\n",
    "def replace_word(match):\n",
    "    replace_count[0] += 1\n",
    "    if replace_count[0] % 2 == 0:  # Even occurrence\n",
    "        return even_word\n",
    "    else:  # Odd occurrence\n",
    "        return odd_word\n",
    "\n",
    "# Perform the replacement using regular expressions\n",
    "modified_contents = re.sub(r'\\bterrible\\b', replace_word, file_contents)\n",
    "# Display the modified contents\n",
    "print(modified_contents)"
   ]
  },
  {
   "cell_type": "code",
   "execution_count": 10,
   "metadata": {},
   "outputs": [],
   "source": [
    "with open('result.txt', 'w') as result_file:\n",
    "    result_file.write(modified_contents)"
   ]
  }
 ],
 "metadata": {
  "kernelspec": {
   "display_name": "tf2.6",
   "language": "python",
   "name": "python3"
  },
  "language_info": {
   "codemirror_mode": {
    "name": "ipython",
    "version": 3
   },
   "file_extension": ".py",
   "mimetype": "text/x-python",
   "name": "python",
   "nbconvert_exporter": "python",
   "pygments_lexer": "ipython3",
   "version": "3.9.13"
  },
  "orig_nbformat": 4
 },
 "nbformat": 4,
 "nbformat_minor": 2
}
